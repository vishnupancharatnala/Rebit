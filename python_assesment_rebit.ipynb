{
  "nbformat": 4,
  "nbformat_minor": 0,
  "metadata": {
    "colab": {
      "provenance": []
    },
    "kernelspec": {
      "name": "python3",
      "display_name": "Python 3"
    },
    "language_info": {
      "name": "python"
    }
  },
  "cells": [
    {
      "cell_type": "code",
      "execution_count": 1,
      "metadata": {
        "id": "8qo-iEqt538U",
        "colab": {
          "base_uri": "https://localhost:8080/"
        },
        "outputId": "82666777-a370-4819-d7b1-fba92d8e47d6"
      },
      "outputs": [
        {
          "output_type": "stream",
          "name": "stdout",
          "text": [
            "The vehicle is a 2020 Toyota Camry.\n"
          ]
        }
      ],
      "source": [
        "# 1)Define a class called Vehicle. Include attributes like make, model, and year. Add an initialization method to set these attributes.\n",
        "# Question 2\n",
        "# Add a method called display_info to the Vehicle class that prints out the vehicle’s information in a nicely formatted string.\n",
        "\n",
        "\n",
        "class Vehicle :\n",
        "    def __init__(self,make,model,year):\n",
        "        self.make = make\n",
        "        self.model = model\n",
        "        self.year = year\n",
        "    def display_info(self):\n",
        "      print(f'The vehicle is a {self.year} {self.make} {self.model}.')\n",
        "\n",
        "\n",
        "v1 = Vehicle(\"Toyota\", \"Camry\", 2020)\n",
        "v1.display_info()\n",
        "\n",
        "\n",
        "\n"
      ]
    },
    {
      "cell_type": "code",
      "source": [
        "\n",
        "# Question 3\n",
        "# Create a subclass of Vehicle called Car that includes additional attributes like doors and engine_type. Override the display_info method to include these new attributes\n",
        "\n",
        "# Question 4\n",
        "# Write a method in the Car class to start_engine. This method should print a message that says the engine is starting, using the engine_type in the message\n",
        "class Car(Vehicle):\n",
        "    def __init__(self, make, model, year, doors, engine_type):\n",
        "        super().__init__(make, model, year)\n",
        "        self.doors = doors\n",
        "        self.engine_type = engine_type\n",
        "\n",
        "    def display_info(self):\n",
        "        print(f\"Car Info: {self.year} {self.make} {self.model}, Doors: {self.doors}, Engine: {self.engine_type}\")\n",
        "\n",
        "    def start_engine(self):\n",
        "      print(f'The enginee is starting using {self.engine_type}')\n",
        "\n",
        "\n",
        "car1 = Car(\"Honda\", \"Civic\", 2022, 4, \"Petrol\")\n",
        "car1.display_info()\n",
        "car1.start_engine()\n",
        "\n",
        "\n",
        "\n"
      ],
      "metadata": {
        "id": "7g2FothQAOTW",
        "colab": {
          "base_uri": "https://localhost:8080/"
        },
        "outputId": "cf3051a6-86b6-47a0-c6d2-d744260848a3"
      },
      "execution_count": 3,
      "outputs": [
        {
          "output_type": "stream",
          "name": "stdout",
          "text": [
            "Car Info: 2022 Honda Civic, Doors: 4, Engine: Petrol\n",
            "The enginee is starting using Petrol\n"
          ]
        }
      ]
    },
    {
      "cell_type": "code",
      "source": [
        "# Question 5\n",
        "# Implement a Bicycle subclass that inherits from Vehicle. Include additional attributes such as gear_count and bicycle_type.\n",
        "\n",
        "class Bicycle(Vehicle):\n",
        "    def __init__(self, make, model, year, gear_count, bicycle_type):\n",
        "        super().__init__(make, model, year)\n",
        "        self.gear_count = gear_count\n",
        "        self.bicycle_type = bicycle_type\n",
        "\n",
        "bicycle1 = Bicycle(\"Trek\", \"Domane\", 2021, 21, \"Road\")\n",
        "bicycle1.display_info()\n",
        "\n",
        "\n"
      ],
      "metadata": {
        "id": "4OiJN4vwBk55",
        "colab": {
          "base_uri": "https://localhost:8080/"
        },
        "outputId": "7ee20c6e-02e2-4c16-821b-d290bd5ab97b"
      },
      "execution_count": 4,
      "outputs": [
        {
          "output_type": "stream",
          "name": "stdout",
          "text": [
            "The vehicle is a 2021 Trek Domane.\n"
          ]
        }
      ]
    },
    {
      "cell_type": "code",
      "source": [
        "# Question 6\n",
        "# Create a Python class Circle. Use the __init__ method to set the radius and a method to calculate the area (use pi value from the math module).\n",
        "import math\n",
        "class Circle:\n",
        "    def __init__(self,radius):\n",
        "      self.radius = radius\n",
        "    def calculate_area(self):\n",
        "      return math.pi*(self.radius**2)\n",
        "\n",
        "\n",
        "circle = Circle(5)\n",
        "print(circle.calculate_area())\n"
      ],
      "metadata": {
        "id": "Y40EzNUpCno-",
        "colab": {
          "base_uri": "https://localhost:8080/"
        },
        "outputId": "719cf33c-79a6-42d5-9293-49c43109f385"
      },
      "execution_count": 5,
      "outputs": [
        {
          "output_type": "stream",
          "name": "stdout",
          "text": [
            "78.53981633974483\n"
          ]
        }
      ]
    },
    {
      "cell_type": "code",
      "source": [
        "# Question 7\n",
        "# Define a class Rectangle with attributes length and width. Include methods to calculate the area and perimeter.\n",
        "class Rectangle:\n",
        "    def __init__(self, length, width):\n",
        "        self.length = length\n",
        "        self.width = width\n",
        "\n",
        "    def calculate_area(self):\n",
        "        return self.length * self.width\n",
        "\n",
        "    def calculate_perimeter(self):\n",
        "        return 2*(self.length+self.width)\n",
        "\n",
        "rectangle = Rectangle(4, 5)\n",
        "print(rectangle.calculate_area())\n",
        "print(rectangle.calculate_perimeter())\n"
      ],
      "metadata": {
        "id": "XuQU-2IDbrgf",
        "colab": {
          "base_uri": "https://localhost:8080/"
        },
        "outputId": "9570c0f4-5f2f-4d00-8c37-a20490cdcf8f"
      },
      "execution_count": 7,
      "outputs": [
        {
          "output_type": "stream",
          "name": "stdout",
          "text": [
            "20\n",
            "18\n"
          ]
        }
      ]
    },
    {
      "cell_type": "code",
      "source": [
        "# Question 8\n",
        "# Create a class Employee with properties name and employee_id. Include a method to print an email address, assuming it's employee_id@company.com.\n",
        "class Employee:\n",
        "    def __init__(self, name, employee_id):\n",
        "        self.name = name\n",
        "        self.employee_id = employee_id\n",
        "\n",
        "    def print_email(self):\n",
        "        return f\"{self.employee_id}@company.com\"\n",
        "\n",
        "\n",
        "emp1 = Employee(\"Alice\", \"E12345\")\n",
        "emp1.print_email()\n"
      ],
      "metadata": {
        "id": "dAX4eQdHbrdE",
        "colab": {
          "base_uri": "https://localhost:8080/",
          "height": 36
        },
        "outputId": "001938f3-8542-47d0-eabf-8ea1bb1f7a77"
      },
      "execution_count": 8,
      "outputs": [
        {
          "output_type": "execute_result",
          "data": {
            "text/plain": [
              "'E12345@company.com'"
            ],
            "application/vnd.google.colaboratory.intrinsic+json": {
              "type": "string"
            }
          },
          "metadata": {},
          "execution_count": 8
        }
      ]
    },
    {
      "cell_type": "code",
      "source": [
        "# Question 9\n",
        "# Extend the Employee class with a subclass Manager that has an additional attribute department and a method to print department details.\n",
        "class Manager(Employee):\n",
        "    def __init__(self, name, employee_id, department):\n",
        "        super().__init__(name, employee_id)\n",
        "        self.department = department\n",
        "\n",
        "    def print_department(self):\n",
        "        print(f\"Department: {self.department}\")\n",
        "manager1 = Manager(\"Bob\", \"M54321\", \"Sales\")\n",
        "# manager1.print_email()\n",
        "manager1.print_department()\n"
      ],
      "metadata": {
        "id": "7FAj1zwbbraO",
        "colab": {
          "base_uri": "https://localhost:8080/"
        },
        "outputId": "ce35a8c3-acca-495b-ef60-261a1f9e40cf"
      },
      "execution_count": 9,
      "outputs": [
        {
          "output_type": "stream",
          "name": "stdout",
          "text": [
            "Department: Sales\n"
          ]
        }
      ]
    },
    {
      "cell_type": "code",
      "source": [
        "# Question 10\n",
        "# Define a class ComplexNumber to represent complex numbers. Include methods to add and multiply two complex numbers.\n",
        "\n",
        "\n",
        "class ComplexNumber:\n",
        "    def __init__(self, real, imag):\n",
        "        self.real = real\n",
        "        self.imag = imag\n",
        "\n",
        "    def add(self, other):\n",
        "        return ComplexNumber(self.real + other.real, self.imag + other.imag)\n",
        "\n",
        "    def multiply(self, other):\n",
        "        return ComplexNumber(self.real * other.real - self.imag * other.imag,\n",
        "                             self.real * other.imag + self.imag * other.real)\n",
        "\n",
        "c1 = ComplexNumber(2, 3)\n",
        "c2 = ComplexNumber(4, -1)\n",
        "\n",
        "sum_result = c1.add(c2)\n",
        "print(sum_result.real, sum_result.imag)\n",
        "\n",
        "mul_result = c1.multiply(c2)\n",
        "print(mul_result.real, mul_result.imag)\n"
      ],
      "metadata": {
        "id": "0vs8kj-QbrUP",
        "colab": {
          "base_uri": "https://localhost:8080/"
        },
        "outputId": "6701b577-b435-450f-c822-288a3922ed86"
      },
      "execution_count": 10,
      "outputs": [
        {
          "output_type": "stream",
          "name": "stdout",
          "text": [
            "6 2\n",
            "11 10\n"
          ]
        }
      ]
    },
    {
      "cell_type": "code",
      "source": [
        "# Question 11\n",
        "# Create a class Book with attributes title, author, and price. Add a method to apply a discount to the price and another to format the book details as a string.\n",
        "class Book:\n",
        "    def __init__(self, title, author, price):\n",
        "        self.title = title\n",
        "        self.author = author\n",
        "        self.price = price\n",
        "\n",
        "    def apply_discount(self, discount):\n",
        "        self.price -= self.price * discount\n",
        "\n",
        "    def format_details(self):\n",
        "        return f\"'{self.title}' by {self.author}, Price: {self.price}\"\n",
        "\n",
        "\n",
        "book = Book(\"Python Programming\", \"John Doe\", 500)\n",
        "book.apply_discount(0.1)\n",
        "print(book.format_details())\n",
        "\n"
      ],
      "metadata": {
        "id": "KSfRBWdkbrQ7",
        "colab": {
          "base_uri": "https://localhost:8080/"
        },
        "outputId": "9a3b8b96-1756-4d16-ab02-58c06c654725"
      },
      "execution_count": 11,
      "outputs": [
        {
          "output_type": "stream",
          "name": "stdout",
          "text": [
            "'Python Programming' by John Doe, Price: 450.0\n"
          ]
        }
      ]
    },
    {
      "cell_type": "code",
      "source": [
        "# Question 12\n",
        "# Implement a class Flight that can keep track of airline, flight number, and the list of passengers (use passenger names).\n",
        "\n",
        "# Question 13\n",
        "# Add methods to the Flight class to add a passenger to the flight and to remove a passenger by name.\n",
        "\n",
        "class Flight:\n",
        "    def __init__(self, airline, flight_number):\n",
        "        self.airline = airline\n",
        "        self.flight_number = flight_number\n",
        "        self.passengers = []\n",
        "    def add_passenger(self, name):\n",
        "        self.passengers.append(name)\n",
        "\n",
        "    def remove_passenger(self, name):\n",
        "        self.passengers.remove(name)\n",
        "\n",
        "\n",
        "flight = Flight(\"Air India\", \"AI101\")\n",
        "flight.add_passenger(\"Alice\")\n",
        "flight.add_passenger(\"Bob\")\n",
        "print(flight.passengers)\n",
        "\n",
        "flight.remove_passenger(\"Alice\")\n",
        "print(flight.passengers)\n"
      ],
      "metadata": {
        "id": "O8qjl3sPbrOK",
        "colab": {
          "base_uri": "https://localhost:8080/"
        },
        "outputId": "9f14e738-3c4f-4643-89d5-4155b859cfc3"
      },
      "execution_count": 12,
      "outputs": [
        {
          "output_type": "stream",
          "name": "stdout",
          "text": [
            "['Alice', 'Bob']\n",
            "['Bob']\n"
          ]
        }
      ]
    },
    {
      "cell_type": "code",
      "source": [
        "# Question 14\n",
        "# Create a class Animal with an attribute species. Add a method make_sound that prints a generic sound.\n",
        "class Animal:\n",
        "    def __init__(self, species):\n",
        "        self.species = species\n",
        "\n",
        "    def make_sound(self):\n",
        "        print(\"Some generic sound\")\n",
        "\n",
        "\n"
      ],
      "metadata": {
        "id": "FrOKlfr-brLT"
      },
      "execution_count": 13,
      "outputs": []
    },
    {
      "cell_type": "code",
      "source": [
        "# Question 15\n",
        "# Subclass Animal with Dog and Cat classes. Override the make_sound method to print \"Woof\" for dogs and \"Meow\" for cats.\n",
        "class Dog(Animal):\n",
        "    def make_sound(self):\n",
        "        print(\"Woof\")\n",
        "\n",
        "class Cat(Animal):\n",
        "    def make_sound(self):\n",
        "        print(\"Meow\")\n",
        "\n",
        "\n",
        "animal = Animal(\"Generic\")\n",
        "animal.make_sound()\n",
        "\n",
        "dog = Dog(\"Canine\")\n",
        "dog.make_sound()\n",
        "\n",
        "cat = Cat(\"Feline\")\n",
        "cat.make_sound()\n"
      ],
      "metadata": {
        "id": "fl1e_Qb2brIm",
        "colab": {
          "base_uri": "https://localhost:8080/"
        },
        "outputId": "c5c316c1-301d-49b3-b390-63ccbab25843"
      },
      "execution_count": 14,
      "outputs": [
        {
          "output_type": "stream",
          "name": "stdout",
          "text": [
            "Some generic sound\n",
            "Woof\n",
            "Meow\n"
          ]
        }
      ]
    },
    {
      "cell_type": "code",
      "source": [
        "# Question 16\n",
        "# Develop a class Calculator with methods for basic operations: add, subtract, multiply, and divide. Handle division by zero gracefully\n",
        "class Calculator:\n",
        "    @staticmethod\n",
        "    def add(a, b):\n",
        "        return a + b\n",
        "\n",
        "    @staticmethod\n",
        "    def subtract(a, b):\n",
        "        return a - b\n",
        "\n",
        "    @staticmethod\n",
        "    def multiply(a, b):\n",
        "        return a * b\n",
        "\n",
        "    @staticmethod\n",
        "    def divide(a, b):\n",
        "        return a / b if b != 0 else \"Division by zero error\"\n",
        "\n",
        "\n",
        "calc = Calculator()\n",
        "print(calc.add(5, 3))\n",
        "print(calc.divide(10, 0))\n",
        "\n"
      ],
      "metadata": {
        "id": "nFZDY7_2bq9F",
        "colab": {
          "base_uri": "https://localhost:8080/"
        },
        "outputId": "ab74ae89-d97f-45f6-ca22-c82e48285914"
      },
      "execution_count": 15,
      "outputs": [
        {
          "output_type": "stream",
          "name": "stdout",
          "text": [
            "8\n",
            "Division by zero error\n"
          ]
        }
      ]
    },
    {
      "cell_type": "code",
      "source": [
        "# Question 17\n",
        "# Create a class WeatherForecast that has a method to add a temperature reading and another method to get the average temperature.\n",
        "class WeatherForecast:\n",
        "    def __init__(self):\n",
        "        self.temperatures = []\n",
        "\n",
        "    def add_temperature(self, temp):\n",
        "        self.temperatures.append(temp)\n",
        "\n",
        "    def get_average_temperature(self):\n",
        "        return sum(self.temperatures) / len(self.temperatures) if self.temperatures else 0\n",
        "\n",
        "\n",
        "\n",
        "forecast = WeatherForecast()\n",
        "forecast.add_temperature(30)\n",
        "forecast.add_temperature(32)\n",
        "forecast.add_temperature(28)\n",
        "print(forecast.get_average_temperature())\n",
        "\n",
        "\n"
      ],
      "metadata": {
        "id": "INg5e5JXbq5r"
      },
      "execution_count": null,
      "outputs": []
    },
    {
      "cell_type": "code",
      "source": [
        "# Question 18\n",
        "# Define a Polygon class with methods to calculate perimeter and area. This class should be designed to be subclassed by specific polygon types like triangles and squares\n",
        "class Polygon:\n",
        "    def calculate_perimeter(self):\n",
        "        pass\n",
        "\n",
        "    def calculate_area(self):\n",
        "        pass\n"
      ],
      "metadata": {
        "id": "A1ixtCGDbq2X"
      },
      "execution_count": null,
      "outputs": []
    },
    {
      "cell_type": "code",
      "source": [
        "# Question 19\n",
        "# Implement a subclass of Polygon for Triangle. Use attributes for the sides and appropriate methods to compute area (using Heron's formula)\n",
        "class Triangle(Polygon):\n",
        "    def __init__(self, a, b, c):\n",
        "        self.a = a\n",
        "        self.b = b\n",
        "        self.c = c\n",
        "\n",
        "    def calculate_area(self):\n",
        "        s = (self.a + self.b + self.c) / 2\n",
        "        return (s * (s - self.a) * (s - self.b) * (s - self.c)) ** 0.5\n"
      ],
      "metadata": {
        "id": "miSEYAi8bq0C"
      },
      "execution_count": null,
      "outputs": []
    },
    {
      "cell_type": "code",
      "source": [
        "# Question 20\n",
        "# Write a Square subclass of Polygon with a method override for area calculation specific to squares.\n",
        "class Square(Polygon):\n",
        "    def __init__(self, side):\n",
        "        self.side = side\n",
        "\n",
        "    def calculate_area(self):\n",
        "        return self.side ** 2\n"
      ],
      "metadata": {
        "id": "PdXDHq84bqxC"
      },
      "execution_count": null,
      "outputs": []
    },
    {
      "cell_type": "code",
      "source": [
        "# Question 21\n",
        "# Create a class Timer that can be used to time operations in Python. Use the time module for tracking start and end times.\n",
        "\n",
        "\n",
        "\n",
        "import time\n",
        "\n",
        "class Timer:\n",
        "    def __init__(self):\n",
        "        self.start_time = None\n",
        "\n",
        "    def start(self):\n",
        "        self.start_time = time.time()\n",
        "\n",
        "    def stop(self):\n",
        "        return time.time() - self.start_time\n"
      ],
      "metadata": {
        "id": "0jPL5sJ9bquN"
      },
      "execution_count": null,
      "outputs": []
    },
    {
      "cell_type": "code",
      "source": [
        "# Question 22\n",
        "# Design a Queue class using lists. Implement methods for enqueue, dequeue, and viewing the queue.\n",
        "class Queue:\n",
        "    def __init__(self):\n",
        "        self.queue = []\n",
        "\n",
        "    def enqueue(self, item):\n",
        "        self.queue.append(item)\n",
        "\n",
        "    def dequeue(self):\n",
        "        return self.queue.pop(0) if self.queue else \"Queue is empty\"\n",
        "\n",
        "    def view_queue(self):\n",
        "        return self.queue\n",
        "\n",
        "\n"
      ],
      "metadata": {
        "id": "QB0mwMjcbqrD"
      },
      "execution_count": null,
      "outputs": []
    },
    {
      "cell_type": "code",
      "source": [
        "# Question 23\n",
        "# Create a class Stack with methods for pushing, popping, and checking the size of the stack.\n",
        "\n",
        "class Stack:\n",
        "    def __init__(self):\n",
        "        self.stack = []\n",
        "\n",
        "    def push(self, item):\n",
        "        self.stack.append(item)\n",
        "\n",
        "    def pop(self):\n",
        "        return self.stack.pop() if self.stack else \"Stack is empty\"\n",
        "\n",
        "    def size(self):\n",
        "        return len(self.stack)\n"
      ],
      "metadata": {
        "id": "iLzZ3AGLbqYa"
      },
      "execution_count": null,
      "outputs": []
    },
    {
      "cell_type": "code",
      "source": [
        "# Question 24\n",
        "# Develop a MusicPlayer class with methods to play, stop, and load music tracks (simulated with print statements).\n",
        "class MusicPlayer:\n",
        "    def __init__(self):\n",
        "        self.track = None\n",
        "\n",
        "    def load_track(self, track):\n",
        "        self.track = track\n",
        "        print(f\"Loaded track: {track}\")\n",
        "\n",
        "    def play(self):\n",
        "        print(f\"Playing: {self.track}\")\n",
        "\n",
        "    def stop(self):\n",
        "        print(\"Music stopped\")\n",
        "\n",
        "\n",
        "player = MusicPlayer()\n",
        "player.load_track(\"Track 1\")\n",
        "player.play()\n",
        "player.stop()\n"
      ],
      "metadata": {
        "id": "Hcn4gisve7xz"
      },
      "execution_count": null,
      "outputs": []
    },
    {
      "cell_type": "code",
      "source": [
        "# Question 25\n",
        "# Implement a Database class that simulates a simple database interaction with methods to connect, disconnect, and execute a query (simulated with print statements).\n",
        "class Database:\n",
        "    def connect(self):\n",
        "        print(\"Database connected\")\n",
        "\n",
        "    def disconnect(self):\n",
        "        print(\"Database disconnected\")\n",
        "\n",
        "    def execute_query(self, query):\n",
        "        print(f\"Executing: {query}\")\n",
        "\n",
        "\n",
        "\n",
        "db = Database()\n",
        "db.connect()\n",
        "db.execute_query(\"SELECT * FROM users\")\n",
        "db.disconnect()\n",
        "\n"
      ],
      "metadata": {
        "id": "sDljyYYQe7gE",
        "colab": {
          "base_uri": "https://localhost:8080/"
        },
        "outputId": "30bcc855-7f53-467c-c298-24003c2480fb"
      },
      "execution_count": 16,
      "outputs": [
        {
          "output_type": "stream",
          "name": "stdout",
          "text": [
            "Database connected\n",
            "Executing: SELECT * FROM users\n",
            "Database disconnected\n"
          ]
        }
      ]
    }
  ]
}